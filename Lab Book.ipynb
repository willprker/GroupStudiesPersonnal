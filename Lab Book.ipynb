{
 "cells": [
  {
   "cell_type": "markdown",
   "id": "1f3b0e69",
   "metadata": {},
   "source": [
    "# January 15th"
   ]
  },
  {
   "cell_type": "markdown",
   "id": "bffe7696",
   "metadata": {},
   "source": [
    "Created GitHub repository for the Data Analysis team, which contains a notebook that opens the Kepler data provided which can be interacted with via matplotlib widget."
   ]
  },
  {
   "cell_type": "markdown",
   "id": "0bdbad72",
   "metadata": {},
   "source": [
    "Read the theory section of Bill's paper and looked over old SiTU notes on p mode and g mode oscillations. Specifically in the context of researching equations 1 and 2."
   ]
  },
  {
   "cell_type": "markdown",
   "id": "017bf421",
   "metadata": {},
   "source": [
    "![Equation 1 and 2](Lab%20Book%20Images/eqn1-2.png)"
   ]
  },
  {
   "cell_type": "markdown",
   "id": "03d0f9ef",
   "metadata": {},
   "source": []
  }
 ],
 "metadata": {
  "kernelspec": {
   "display_name": "base",
   "language": "python",
   "name": "python3"
  },
  "language_info": {
   "codemirror_mode": {
    "name": "ipython",
    "version": 3
   },
   "file_extension": ".py",
   "mimetype": "text/x-python",
   "name": "python",
   "nbconvert_exporter": "python",
   "pygments_lexer": "ipython3",
   "version": "3.10.9"
  }
 },
 "nbformat": 4,
 "nbformat_minor": 5
}
